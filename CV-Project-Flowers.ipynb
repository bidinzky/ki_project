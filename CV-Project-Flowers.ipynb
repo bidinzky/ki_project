{
 "cells": [
  {
   "cell_type": "markdown",
   "id": "a3b7514a",
   "metadata": {},
   "source": [
    "# Computer Vision Project - Classification of Flowers\n"
   ]
  },
  {
   "cell_type": "markdown",
   "id": "99c11103",
   "metadata": {},
   "source": [
    "In this project your objective is to create a model in order to classify flowers. Thiszip file contains all relevant data. \n",
    "\n",
    "1. The data contains two folders: *train* and *test*. The *train* folder consists of 5486-images to use for training while the *test* folder contains 1351-images you can use to test your model in a **train-test-split** validation style. We have omitted another set of 1352 validation images which we will use to benchmark your final models in the last lecture. \n",
    "\n",
    "\n",
    "2. We have provided you with two label files: *train_labels.csv* and *test_labels.csv*. Each file contains the filename of the corresponding image and the class label. In total we have **102 different classes** of flowers.  You can import the label files using the `import_labels()` function provided to you in this notebook.\n",
    "\n",
    "\n",
    "3. Due to the large number of images, there is a good chance that you can not easily fit the entire training and testing data into RAM. We therefore give you an implementation of a `DataGenerator` class that can be used with keras. This class will read in the images from your hard-drive for each batch during during or testing. The class comes with some nice features that could improve your training significantly such as **image resizing**, **data augmentation** and **preprocessing**. Have a look at the code to find out how.\n",
    "\n",
    "    Initialize data generators using labels and image source directory.\n",
    "\n",
    "    `\n",
    "    datagen_train = DataGenerator('train', y_train, batch_size, input_shape, ...)\n",
    "    datagen_test = DataGenerator('test', y_test, batch_size, input_shape, ...)`\n",
    "\n",
    "    Train your model using data generators.\n",
    "\n",
    "    `model.fit(datagen_train, validation_data=datagen_test, ...)`\n",
    "    \n",
    "    \n",
    "4. Select a suitable model for classification. It is up to you to decide all model parameters, such as **number of layers**, **number and size of filter** in each layer, using **pooling** or, **image-size**, **data-augmentation**, **learning rate**, ... \n",
    "\n",
    "\n",
    "5. **Document** your progress and your intermediate results (your failures and improvements). Describe why you selected certain model and training parameters, what worked, what did not work. Store the training history (loss and accuracy) and create corresponding plots. This documentation will be part of your final presentation and will be **graded**.\n",
    "\n",
    "\n",
    "6. Feel free to explore the internet for suitable CNN models and re-use these ideas. If you use certain features we have not touched during the lecture such as Dropout, Residual Learning or Batch Normalization. Prepare a slide in your final presentation to explain in your own (basic) terms what these things to so we can all learn from your experience. **Notice:** Very large models might perform better but will be harder and slower to train. **Do not use a pre-trained model you find online!**\n",
    "\n",
    "\n",
    "7. Prepare a notebook with your model such that we can use it in the final competition. This means, store your trained model using `model.save(...)`. Your saved models can be loaded via `tf.keras.models.load_model(...)`. We will then provide you with a new folder containing images (*validation*) and a file containing labels (*validation_labels.csv*) which have the same structure. Prepare a data generator for this validation data (test it using the test data) and supply it to the \n",
    " `evaluate_model(model, datagen)` function provided to you.\n",
    " \n",
    " Your prepared notebook could look like this:\n",
    " \n",
    "    `... import stuff \n",
    "    ... code to load the stored model ...\n",
    "    y_validation = import_labels('validation_labels.csv')\n",
    "    datagen_validation = DataGenerator('validation', y_validation, batch_size, input_shape)\n",
    "    evaluate_model(model, datagen_validation)`\n",
    "\n",
    "\n",
    "8. Prepare a 15-Minute presentation of your findings and final model presentation. A rough guideline what could be interesting to your audience:\n",
    "    * Explain your models architecture (number of layers, number of total parameters, how long took it to train, ...)\n",
    "    * Compare the training history of your experimentats visually\n",
    "    * Explain your best model (why is it better)\n",
    "    * Why did you take certain decision (parameters, image size, batch size, ...)\n",
    "    * What worked, what did not work (any ideas why?)\n",
    "    * **What did you learn?**\n",
    "    \n",
    "\n"
   ]
  },
  {
   "cell_type": "code",
   "execution_count": 1,
   "id": "c22a7ecb-9693-4e42-9076-0af69ce1213b",
   "metadata": {},
   "outputs": [
    {
     "name": "stdout",
     "output_type": "stream",
     "text": [
      "C:\\Users\\binde\\Downloads\\project(1)\n"
     ]
    }
   ],
   "source": [
    "import os\n",
    "print(os.getcwd())\n",
    "#os.chdir(\"Project\")\n",
    "#print(os.getcwd())"
   ]
  },
  {
   "cell_type": "code",
   "execution_count": 2,
   "id": "53567ea8-66ea-45ec-ba5f-2c3d0e1909de",
   "metadata": {},
   "outputs": [],
   "source": [
    "import datetime\n",
    "log_dir = \"logs/fit/\" + datetime.datetime.now().strftime(\"%Y%m%d-%H%M%S\")"
   ]
  },
  {
   "cell_type": "code",
   "execution_count": 3,
   "id": "1dde8f70",
   "metadata": {},
   "outputs": [],
   "source": [
    "# Read in label file and return a dictionary {'filename' : label}.\n",
    "#\n",
    "def import_labels(label_file):\n",
    "    labels = dict()\n",
    "\n",
    "    import csv\n",
    "    with open(label_file) as fd:\n",
    "        csvreader = csv.DictReader(fd)\n",
    "\n",
    "        for row in csvreader:\n",
    "            labels[row['filename']] = int(row['label'])\n",
    "    return labels"
   ]
  },
  {
   "cell_type": "code",
   "execution_count": 4,
   "id": "ffaa6579",
   "metadata": {},
   "outputs": [],
   "source": [
    "import tensorflow.keras as keras\n",
    "from tensorflow.keras.preprocessing import image\n",
    "\n",
    "import numpy as np\n",
    "import tensorflow as tf \n",
    "\n",
    "#tf.enable_eager_execution(tf.ConfigProto(log_device_placement=True)) \n",
    "#tf.debugging.experimental.enable_dump_debug_info(log_dir, tensor_debug_mode=\"FULL_HEALTH\", circular_buffer_size=-1)\n",
    "\n",
    "class DataGenerator(keras.utils.Sequence):\n",
    "\n",
    "    def __init__(self, img_root_dir, labels_dict, batch_size, target_dim, preprocess_func=None, use_augmentation=False):\n",
    "        self._labels_dict = labels_dict\n",
    "        self._img_root_dir = img_root_dir\n",
    "        self._batch_size = batch_size\n",
    "        self._target_dim = target_dim\n",
    "        self._preprocess_func = preprocess_func\n",
    "        self._n_classes = len(set(self._labels_dict.values()))\n",
    "        self._fnames_all = list(self._labels_dict.keys())\n",
    "        self._use_augmentation = use_augmentation\n",
    "\n",
    "        if self._use_augmentation:\n",
    "            self._augmentor = image.ImageDataGenerator(\n",
    "                rotation_range=40,\n",
    "                width_shift_range=0.2,\n",
    "                height_shift_range=0.2,\n",
    "                shear_range=0.2,\n",
    "                zoom_range=0.2,\n",
    "                horizontal_flip=True,\n",
    "                fill_mode='nearest'\n",
    "            )\n",
    "        self.on_epoch_end()\n",
    "\n",
    "    def __len__(self):\n",
    "        return int(np.floor(len(self._fnames_all)) / self._batch_size)\n",
    "\n",
    "    def on_epoch_end(self):\n",
    "        self._indices = np.arange(len(self._fnames_all))\n",
    "        np.random.shuffle(self._indices)\n",
    "\n",
    "    def __getitem__(self, index):\n",
    "        indices = self._indices[index * self._batch_size:(index+1)*self._batch_size]\n",
    "\n",
    "        fnames = [self._fnames_all[k] for k in indices]\n",
    "        X,Y = self.__load_files__(fnames)\n",
    "\n",
    "        return X,Y\n",
    "\n",
    "    def __load_files__(self, batch_filenames):\n",
    "        X = np.empty((self._batch_size, *self._target_dim, 3))\n",
    "        Y = np.empty((self._batch_size), dtype=int)\n",
    "\n",
    "        for idx, fname in enumerate(batch_filenames):\n",
    "            img_path = os.path.join(self._img_root_dir, fname)\n",
    "            img = image.load_img(img_path, target_size=self._target_dim)\n",
    "            x = image.img_to_array(img)\n",
    "            if self._preprocess_func is not None:\n",
    "                x = self._preprocess_func(x)\n",
    "\n",
    "            X[idx,:] = x \n",
    "            Y[idx] = self._labels_dict[fname]-1\n",
    "\n",
    "        if self._use_augmentation:\n",
    "            it = self._augmentor.flow(X, batch_size=self._batch_size, shuffle=False)\n",
    "            X = it.next()\n",
    "\n",
    "        if self._preprocess_func is not None:\n",
    "            X = self._preprocess_func(X)\n",
    "\n",
    "        return X, tf.keras.utils.to_categorical(Y, num_classes=self._n_classes)"
   ]
  },
  {
   "cell_type": "code",
   "execution_count": 5,
   "id": "29fb036b",
   "metadata": {},
   "outputs": [],
   "source": [
    "from tensorflow.keras.utils import to_categorical\n",
    "y_train = import_labels(\"train_labels.csv\")\n",
    "y_test = import_labels(\"test_labels.csv\")\n",
    "batch_size=32\n",
    "image_size = (496, 496)"
   ]
  },
  {
   "cell_type": "code",
   "execution_count": 6,
   "id": "62d929e0-21ed-4147-939c-859ef3b127b4",
   "metadata": {},
   "outputs": [],
   "source": [
    "def preprocess_func(x):\n",
    "    return x / 255.0"
   ]
  },
  {
   "cell_type": "code",
   "execution_count": 7,
   "id": "1f0b3b56-d45c-4ed8-ae14-7bef82b6f05d",
   "metadata": {},
   "outputs": [],
   "source": [
    "datagen_train = DataGenerator('train', y_train, batch_size, image_size, preprocess_func=preprocess_func, use_augmentation=True)\n",
    "datagen_test = DataGenerator('test', y_test, batch_size, image_size, preprocess_func=preprocess_func, use_augmentation=True)"
   ]
  },
  {
   "cell_type": "code",
   "execution_count": null,
   "id": "fa187b05-70ef-4ab9-bfc1-10794d6ae719",
   "metadata": {},
   "outputs": [],
   "source": []
  },
  {
   "cell_type": "code",
   "execution_count": 8,
   "id": "1add08ca-221c-42f7-9029-708f2514ff25",
   "metadata": {},
   "outputs": [
    {
     "name": "stdout",
     "output_type": "stream",
     "text": [
      "Model: \"sequential\"\n",
      "_________________________________________________________________\n",
      " Layer (type)                Output Shape              Param #   \n",
      "=================================================================\n",
      " conv2d (Conv2D)             (None, 494, 494, 64)      1792      \n",
      "                                                                 \n",
      " max_pooling2d (MaxPooling2D  (None, 164, 164, 64)     0         \n",
      " )                                                               \n",
      "                                                                 \n",
      " batch_normalization (BatchN  (None, 164, 164, 64)     256       \n",
      " ormalization)                                                   \n",
      "                                                                 \n",
      " conv2d_1 (Conv2D)           (None, 162, 162, 32)      18464     \n",
      "                                                                 \n",
      " max_pooling2d_1 (MaxPooling  (None, 32, 32, 32)       0         \n",
      " 2D)                                                             \n",
      "                                                                 \n",
      " batch_normalization_1 (Batc  (None, 32, 32, 32)       128       \n",
      " hNormalization)                                                 \n",
      "                                                                 \n",
      " conv2d_2 (Conv2D)           (None, 30, 30, 16)        4624      \n",
      "                                                                 \n",
      " max_pooling2d_2 (MaxPooling  (None, 7, 7, 16)         0         \n",
      " 2D)                                                             \n",
      "                                                                 \n",
      " batch_normalization_2 (Batc  (None, 7, 7, 16)         64        \n",
      " hNormalization)                                                 \n",
      "                                                                 \n",
      " conv2d_3 (Conv2D)           (None, 5, 5, 8)           1160      \n",
      "                                                                 \n",
      " max_pooling2d_3 (MaxPooling  (None, 1, 1, 8)          0         \n",
      " 2D)                                                             \n",
      "                                                                 \n",
      " batch_normalization_3 (Batc  (None, 1, 1, 8)          32        \n",
      " hNormalization)                                                 \n",
      "                                                                 \n",
      " dropout (Dropout)           (None, 1, 1, 8)           0         \n",
      "                                                                 \n",
      " flatten (Flatten)           (None, 8)                 0         \n",
      "                                                                 \n",
      " dense (Dense)               (None, 16)                144       \n",
      "                                                                 \n",
      " dense_1 (Dense)             (None, 102)               1734      \n",
      "                                                                 \n",
      "=================================================================\n",
      "Total params: 28,398\n",
      "Trainable params: 28,158\n",
      "Non-trainable params: 240\n",
      "_________________________________________________________________\n"
     ]
    }
   ],
   "source": [
    "from tensorflow.keras.optimizers import Adam\n",
    "from tensorflow.keras import layers\n",
    "\n",
    "# Design model\n",
    "model = keras.Sequential()\n",
    "model.add(layers.Input(image_size + (3,)))\n",
    "model.add(layers.Conv2D(filters=64, kernel_size=(3,3), activation=\"relu\"))\n",
    "model.add(layers.MaxPool2D((3,3)))\n",
    "model.add(layers.BatchNormalization())\n",
    "#model.add(layers.Dropout(0.5))\n",
    "model.add(layers.Conv2D(filters=32, kernel_size=(3,3), activation=\"relu\"))\n",
    "model.add(layers.MaxPool2D((5,5)))\n",
    "model.add(layers.BatchNormalization())\n",
    "model.add(layers.Conv2D(filters=16, kernel_size=(3,3), activation=\"relu\"))\n",
    "model.add(layers.MaxPool2D((4,4)))\n",
    "model.add(layers.BatchNormalization())\n",
    "model.add(layers.Conv2D(filters=8, kernel_size=(3,3), activation=\"relu\"))\n",
    "model.add(layers.MaxPool2D((3,3)))\n",
    "model.add(layers.BatchNormalization())\n",
    "#model.add(layers.Dropout(0.5))\n",
    "#model.add(layers.Conv2D(filters=16, kernel_size=(3,3), activation=\"relu\"))\n",
    "#model.add(layers.MaxPool2D((2,2)))\n",
    "#model.add(layers.BatchNormalization())\n",
    "model.add(layers.Dropout(0.1))\n",
    "model.add(layers.Flatten())\n",
    "model.add(layers.Dense(16, activation=\"relu\"))\n",
    "#model.add(layers.BatchNormalization())\n",
    "#model.add(layers.Dense(16, activation=\"relu\"))\n",
    "#model.add(layers.BatchNormalization())\n",
    "model.add(layers.Dense(102, activation=\"softmax\"))\n",
    "model.compile(optimizer=Adam(learning_rate=0.02), loss=\"categorical_crossentropy\", metrics=[\"accuracy\"])\n",
    "model.summary()"
   ]
  },
  {
   "cell_type": "code",
   "execution_count": 9,
   "id": "c2df0553-5d76-44f7-bb69-beea0bbdba20",
   "metadata": {},
   "outputs": [],
   "source": [
    "cp_callback = tf.keras.callbacks.ModelCheckpoint(filepath=\"training.ckpt\",\n",
    "                                                 save_weights_only=True,\n",
    "                                                 verbose=1)\n",
    "\n",
    "\n",
    "tensorboard_callback = tf.keras.callbacks.TensorBoard(log_dir=log_dir, histogram_freq=1)"
   ]
  },
  {
   "cell_type": "code",
   "execution_count": 11,
   "id": "1599ffa6",
   "metadata": {},
   "outputs": [
    {
     "data": {
      "text/plain": [
       "[PhysicalDevice(name='/physical_device:CPU:0', device_type='CPU')]"
      ]
     },
     "execution_count": 11,
     "metadata": {},
     "output_type": "execute_result"
    }
   ],
   "source": [
    "import tensorflow.compat.v1 as tf2\n",
    "\n",
    "tf2.enable_eager_execution(tf.ConfigProto(log_device_placement=True)) "
   ]
  },
  {
   "cell_type": "code",
   "execution_count": null,
   "id": "94ad920c-652a-47f1-a467-4ef8cd688f50",
   "metadata": {},
   "outputs": [],
   "source": [
    "\n",
    "# Train model on dataset\n",
    "model.fit(datagen_train, validation_data=datagen_test, epochs=5,callbacks=[cp_callback\n",
    "                                                                          # ,tensorboard_callback\n",
    "                                                                          ])"
   ]
  },
  {
   "cell_type": "code",
   "execution_count": null,
   "id": "597a54cd-24b2-4351-ab1c-0cde9d7d825a",
   "metadata": {},
   "outputs": [],
   "source": []
  },
  {
   "cell_type": "code",
   "execution_count": null,
   "id": "35ee4357-0fb6-45af-80e0-3c5c95ef082f",
   "metadata": {},
   "outputs": [],
   "source": []
  }
 ],
 "metadata": {
  "kernelspec": {
   "display_name": "Python 3 (ipykernel)",
   "language": "python",
   "name": "python3"
  },
  "language_info": {
   "codemirror_mode": {
    "name": "ipython",
    "version": 3
   },
   "file_extension": ".py",
   "mimetype": "text/x-python",
   "name": "python",
   "nbconvert_exporter": "python",
   "pygments_lexer": "ipython3",
   "version": "3.7.13"
  }
 },
 "nbformat": 4,
 "nbformat_minor": 5
}
